{
  "nbformat": 4,
  "nbformat_minor": 0,
  "metadata": {
    "colab": {
      "name": "test_lesson_1.ipynb",
      "version": "0.3.2",
      "provenance": [],
      "include_colab_link": true
    },
    "kernelspec": {
      "display_name": "py37_django",
      "language": "python",
      "name": "py37_django"
    }
  },
  "cells": [
    {
      "cell_type": "markdown",
      "metadata": {
        "id": "view-in-github",
        "colab_type": "text"
      },
      "source": [
        "<a href=\"https://colab.research.google.com/github/Santhosh-KS/MachineLearning_Concepts/blob/master/test_lesson_1.ipynb\" target=\"_parent\"><img src=\"https://colab.research.google.com/assets/colab-badge.svg\" alt=\"Open In Colab\"/></a>"
      ]
    },
    {
      "metadata": {
        "id": "eArIw5wFVWA_",
        "colab_type": "code",
        "colab": {}
      },
      "cell_type": "code",
      "source": [
        "import torch"
      ],
      "execution_count": 0,
      "outputs": []
    },
    {
      "metadata": {
        "id": "1V75p8ygVWBK",
        "colab_type": "text"
      },
      "cell_type": "markdown",
      "source": [
        "<img src=\"assets/simple_neuron.png\" width=400px>"
      ]
    },
    {
      "metadata": {
        "id": "ov2UR2XcVWBN",
        "colab_type": "code",
        "colab": {}
      },
      "cell_type": "code",
      "source": [
        "def activation(x):\n",
        "    \"\"\" Sigmoid activation function \n",
        "    \n",
        "        Arguments\n",
        "        ---------\n",
        "        x: torch.Tensor\n",
        "    \"\"\"\n",
        "    return 1/(1+torch.exp(-x))"
      ],
      "execution_count": 0,
      "outputs": []
    },
    {
      "metadata": {
        "id": "-j7zbozSVWBf",
        "colab_type": "code",
        "colab": {},
        "outputId": "f8567fb6-3f1e-4343-e410-2fa6b69fef01"
      },
      "cell_type": "code",
      "source": [
        "torch.manual_seed(7)"
      ],
      "execution_count": 0,
      "outputs": [
        {
          "output_type": "execute_result",
          "data": {
            "text/plain": [
              "<torch._C.Generator at 0x7f1638039c50>"
            ]
          },
          "metadata": {
            "tags": []
          },
          "execution_count": 3
        }
      ]
    },
    {
      "metadata": {
        "id": "Iy-aGu6QVWBr",
        "colab_type": "code",
        "colab": {},
        "outputId": "9650cb8d-a9c7-4fe2-849e-263ffec04cd7"
      },
      "cell_type": "code",
      "source": [
        "features = torch.randn((1,5))\n",
        "features.shape[0], features.shape[1]"
      ],
      "execution_count": 0,
      "outputs": [
        {
          "output_type": "execute_result",
          "data": {
            "text/plain": [
              "(1, 5)"
            ]
          },
          "metadata": {
            "tags": []
          },
          "execution_count": 4
        }
      ]
    },
    {
      "metadata": {
        "id": "suu-wWy6VWBz",
        "colab_type": "code",
        "colab": {},
        "outputId": "616aa2bf-a630-47f4-8854-732adf384009"
      },
      "cell_type": "code",
      "source": [
        "weights = torch.rand_like(features)\n",
        "weights.shape"
      ],
      "execution_count": 0,
      "outputs": [
        {
          "output_type": "execute_result",
          "data": {
            "text/plain": [
              "torch.Size([1, 5])"
            ]
          },
          "metadata": {
            "tags": []
          },
          "execution_count": 5
        }
      ]
    },
    {
      "metadata": {
        "id": "PaJXpiTwVWCB",
        "colab_type": "code",
        "colab": {},
        "outputId": "de5081bb-50a8-4faa-c272-3aeb79ccd50d"
      },
      "cell_type": "code",
      "source": [
        "bias = torch.randn((1,1))\n",
        "bias.shape"
      ],
      "execution_count": 0,
      "outputs": [
        {
          "output_type": "execute_result",
          "data": {
            "text/plain": [
              "torch.Size([1, 1])"
            ]
          },
          "metadata": {
            "tags": []
          },
          "execution_count": 6
        }
      ]
    },
    {
      "metadata": {
        "id": "cSbqG709VWCH",
        "colab_type": "code",
        "colab": {},
        "outputId": "b7f86f2d-ec49-45da-d035-c1d935b7edb4"
      },
      "cell_type": "code",
      "source": [
        "y = activation(torch.sum(features * weights) + bias)\n",
        "y"
      ],
      "execution_count": 0,
      "outputs": [
        {
          "output_type": "execute_result",
          "data": {
            "text/plain": [
              "tensor([[0.6140]])"
            ]
          },
          "metadata": {
            "tags": []
          },
          "execution_count": 7
        }
      ]
    },
    {
      "metadata": {
        "id": "QcYzrSSaVWCT",
        "colab_type": "text"
      },
      "cell_type": "markdown",
      "source": [
        "## Stack it up\n",
        "\n",
        "\n",
        "<img src='assets/multilayer_diagram_weights.png' width=450px>"
      ]
    },
    {
      "metadata": {
        "id": "_nEngEd_VWCV",
        "colab_type": "code",
        "colab": {},
        "outputId": "e5af646e-2d44-493d-ddf9-6ecdde74f789"
      },
      "cell_type": "code",
      "source": [
        "torch.manual_seed(7)"
      ],
      "execution_count": 0,
      "outputs": [
        {
          "output_type": "execute_result",
          "data": {
            "text/plain": [
              "<torch._C.Generator at 0x7f1638039c50>"
            ]
          },
          "metadata": {
            "tags": []
          },
          "execution_count": 8
        }
      ]
    },
    {
      "metadata": {
        "id": "vv_h1N8BVWCd",
        "colab_type": "code",
        "colab": {}
      },
      "cell_type": "code",
      "source": [
        "features = torch.randn(1,3)"
      ],
      "execution_count": 0,
      "outputs": []
    },
    {
      "metadata": {
        "id": "mEUSxG8gVWCi",
        "colab_type": "code",
        "colab": {}
      },
      "cell_type": "code",
      "source": [
        "n_inputs = features.shape[1]\n",
        "n_hidden = 2\n",
        "n_output = 1"
      ],
      "execution_count": 0,
      "outputs": []
    },
    {
      "metadata": {
        "id": "gAz-HdgHVWCm",
        "colab_type": "code",
        "colab": {},
        "outputId": "91be8501-a6ab-4955-8ac6-d75df3b2b0c8"
      },
      "cell_type": "code",
      "source": [
        "#Weights for input to hidden layer\n",
        "W1 = torch.randn(n_inputs, n_hidden)\n",
        "\n",
        "#Weights for hidden layer to output layer\n",
        "W2 = torch.randn(n_hidden, n_output)\n",
        "W1.shape, W2.shape"
      ],
      "execution_count": 0,
      "outputs": [
        {
          "output_type": "execute_result",
          "data": {
            "text/plain": [
              "(torch.Size([3, 2]), torch.Size([2, 1]))"
            ]
          },
          "metadata": {
            "tags": []
          },
          "execution_count": 11
        }
      ]
    },
    {
      "metadata": {
        "id": "iF2c6PM6VWCu",
        "colab_type": "code",
        "colab": {},
        "outputId": "6ec586e0-fe56-4d3b-d96a-91fae5045f35"
      },
      "cell_type": "code",
      "source": [
        "# and bias terms for hidden and output layers\n",
        "B1 = torch.randn((1, n_hidden))\n",
        "B2 = torch.randn((1, n_output))\n",
        "B1.shape, B2.shape"
      ],
      "execution_count": 0,
      "outputs": [
        {
          "output_type": "execute_result",
          "data": {
            "text/plain": [
              "(torch.Size([1, 2]), torch.Size([1, 1]))"
            ]
          },
          "metadata": {
            "tags": []
          },
          "execution_count": 12
        }
      ]
    },
    {
      "metadata": {
        "id": "Am9_kcgIVWC0",
        "colab_type": "code",
        "colab": {},
        "outputId": "382ad71c-4e6e-4336-a0b3-d89cb1a4fd75"
      },
      "cell_type": "code",
      "source": [
        "h = activation(torch.mm(features, W1) + B1)\n",
        "y = activation(torch.mm(h, W2) + B2)\n",
        "y.shape, y"
      ],
      "execution_count": 0,
      "outputs": [
        {
          "output_type": "execute_result",
          "data": {
            "text/plain": [
              "(torch.Size([1, 1]), tensor([[0.3171]]))"
            ]
          },
          "metadata": {
            "tags": []
          },
          "execution_count": 13
        }
      ]
    },
    {
      "metadata": {
        "id": "tkvipMr6VWC8",
        "colab_type": "text"
      },
      "cell_type": "markdown",
      "source": [
        "## MNIST Data set handling"
      ]
    },
    {
      "metadata": {
        "id": "wd6miQ90VWC_",
        "colab_type": "code",
        "colab": {}
      },
      "cell_type": "code",
      "source": [
        "# Import necessary packages\n",
        "\n",
        "%matplotlib inline\n",
        "%config InlineBackend.figure_format = 'retina'\n",
        "\n",
        "import numpy as np\n",
        "import torch\n",
        "\n",
        "import helper\n",
        "\n",
        "import matplotlib.pyplot as plt"
      ],
      "execution_count": 0,
      "outputs": []
    },
    {
      "metadata": {
        "id": "y5cK8sGPVWDE",
        "colab_type": "code",
        "colab": {}
      },
      "cell_type": "code",
      "source": [
        "### Run this cell\n",
        "\n",
        "from torchvision import datasets, transforms\n",
        "\n",
        "# Define a transform to normalize the data\n",
        "transform = transforms.Compose([transforms.ToTensor(),\n",
        "                              transforms.Normalize((0.5,), (0.5,)),\n",
        "                              ])\n",
        "\n",
        "# Download and load the training data\n",
        "trainset = datasets.MNIST('~/.pytorch/MNIST_data/', download=True, train=True, transform=transform)\n",
        "trainloader = torch.utils.data.DataLoader(trainset, batch_size=64, shuffle=True)"
      ],
      "execution_count": 0,
      "outputs": []
    },
    {
      "metadata": {
        "id": "g7mGaziqVWDI",
        "colab_type": "code",
        "colab": {},
        "outputId": "85d09064-7ab2-4bac-f1b5-be43033130ad"
      },
      "cell_type": "code",
      "source": [
        "dataiter = iter(trainloader)\n",
        "images, labels = dataiter.next()\n",
        "print(type(images))\n",
        "print(images.shape)\n",
        "print(labels.shape)"
      ],
      "execution_count": 0,
      "outputs": [
        {
          "output_type": "stream",
          "text": [
            "<class 'torch.Tensor'>\n",
            "torch.Size([64, 1, 28, 28])\n",
            "torch.Size([64])\n"
          ],
          "name": "stdout"
        }
      ]
    },
    {
      "metadata": {
        "id": "Ctnt-KOtVWDR",
        "colab_type": "code",
        "colab": {},
        "outputId": "6cd74eea-d47e-487e-c531-633aba793146"
      },
      "cell_type": "code",
      "source": [
        "plt.imshow(images[1].numpy().squeeze(), cmap='Greys_r');"
      ],
      "execution_count": 0,
      "outputs": [
        {
          "output_type": "display_data",
          "data": {
            "image/png": "[encoded data removed]",
            "text/plain": [
              "<Figure size 432x288 with 1 Axes>"
            ]
          },
          "metadata": {
            "tags": [],
            "image/png": {
              "height": 250,
              "width": 253
            },
            "needs_background": "light"
          }
        }
      ]
    },
    {
      "metadata": {
        "id": "SeN_tVliVWDW",
        "colab_type": "code",
        "colab": {},
        "outputId": "645e6147-5e4e-438f-c23c-a020c02d7a4d"
      },
      "cell_type": "code",
      "source": [
        "images[1].shape"
      ],
      "execution_count": 0,
      "outputs": [
        {
          "output_type": "execute_result",
          "data": {
            "text/plain": [
              "torch.Size([1, 28, 28])"
            ]
          },
          "metadata": {
            "tags": []
          },
          "execution_count": 18
        }
      ]
    },
    {
      "metadata": {
        "id": "k9mveh7iVWDb",
        "colab_type": "code",
        "colab": {},
        "outputId": "69e86d89-4791-41e8-8323-4287e0e362b0"
      },
      "cell_type": "code",
      "source": [
        "# Flatten the input images\n",
        "inputs = images.view(images.shape[0], -1)\n",
        "inputs.shape"
      ],
      "execution_count": 0,
      "outputs": [
        {
          "output_type": "execute_result",
          "data": {
            "text/plain": [
              "torch.Size([64, 784])"
            ]
          },
          "metadata": {
            "tags": []
          },
          "execution_count": 19
        }
      ]
    },
    {
      "metadata": {
        "id": "W4bEtT5JVWDg",
        "colab_type": "code",
        "colab": {},
        "outputId": "198be510-41ae-4fed-9e3a-5e6998f7e1db"
      },
      "cell_type": "code",
      "source": [
        "w1 = torch.randn(inputs.shape[1], 256)\n",
        "b1 = torch.randn(256)\n",
        "w1.shape, b1.shape"
      ],
      "execution_count": 0,
      "outputs": [
        {
          "output_type": "execute_result",
          "data": {
            "text/plain": [
              "(torch.Size([784, 256]), torch.Size([256]))"
            ]
          },
          "metadata": {
            "tags": []
          },
          "execution_count": 20
        }
      ]
    },
    {
      "metadata": {
        "id": "Xcs601DaVWDm",
        "colab_type": "code",
        "colab": {},
        "outputId": "e24bcdc0-a860-4f0a-968b-9125f836ba90"
      },
      "cell_type": "code",
      "source": [
        "w2 = torch.randn(256, 10)\n",
        "b2 = torch.randn(10)\n",
        "w2.shape, b2.shape"
      ],
      "execution_count": 0,
      "outputs": [
        {
          "output_type": "execute_result",
          "data": {
            "text/plain": [
              "(torch.Size([256, 10]), torch.Size([10]))"
            ]
          },
          "metadata": {
            "tags": []
          },
          "execution_count": 21
        }
      ]
    },
    {
      "metadata": {
        "id": "Re1N6HQNVWDr",
        "colab_type": "code",
        "colab": {},
        "outputId": "bbc8b216-ec24-4d3b-88b6-9dc3e0cbbace"
      },
      "cell_type": "code",
      "source": [
        "h = activation(torch.mm(inputs, w1) + b1)\n",
        "out = activation(torch.mm(h, w2) + b2)\n",
        "out.shape"
      ],
      "execution_count": 0,
      "outputs": [
        {
          "output_type": "execute_result",
          "data": {
            "text/plain": [
              "torch.Size([64, 10])"
            ]
          },
          "metadata": {
            "tags": []
          },
          "execution_count": 22
        }
      ]
    },
    {
      "metadata": {
        "id": "Shds_HHrVWDy",
        "colab_type": "text"
      },
      "cell_type": "markdown",
      "source": [
        "## Softmax \n",
        "\n",
        "$$\n",
        "\\Large \\sigma(x_i) = \\cfrac{e^{x_i}}{\\sum_k^K{e^{x_k}}}\n",
        "$$\n"
      ]
    },
    {
      "metadata": {
        "id": "AqfGWKi2VWDz",
        "colab_type": "code",
        "colab": {}
      },
      "cell_type": "code",
      "source": [
        "def softmax(x):\n",
        "    return torch.exp(x)/torch.sum(torch.exp(x), dim=1).view(-1,1)"
      ],
      "execution_count": 0,
      "outputs": []
    },
    {
      "metadata": {
        "id": "VYjcq16RVWD3",
        "colab_type": "code",
        "colab": {},
        "outputId": "7d860237-4f4e-4ed1-e2bf-ceefffbd9fd9"
      },
      "cell_type": "code",
      "source": [
        "probabilities = softmax(out)\n",
        "probabilities.shape"
      ],
      "execution_count": 0,
      "outputs": [
        {
          "output_type": "execute_result",
          "data": {
            "text/plain": [
              "torch.Size([64, 10])"
            ]
          },
          "metadata": {
            "tags": []
          },
          "execution_count": 60
        }
      ]
    },
    {
      "metadata": {
        "id": "UMaTwPQeVWD9",
        "colab_type": "code",
        "colab": {},
        "outputId": "974c636f-2a0a-4769-ba5e-b10ae38cf9e4"
      },
      "cell_type": "code",
      "source": [
        "val = torch.exp(out)\n",
        "val.shape"
      ],
      "execution_count": 0,
      "outputs": [
        {
          "output_type": "execute_result",
          "data": {
            "text/plain": [
              "torch.Size([64, 10])"
            ]
          },
          "metadata": {
            "tags": []
          },
          "execution_count": 61
        }
      ]
    },
    {
      "metadata": {
        "id": "vfVjrSlmVWEB",
        "colab_type": "code",
        "colab": {},
        "outputId": "2b173c32-b522-4e93-ae8f-7d304e025a5a"
      },
      "cell_type": "code",
      "source": [
        "val = torch.sum(torch.exp(out))\n",
        "val.shape"
      ],
      "execution_count": 0,
      "outputs": [
        {
          "output_type": "execute_result",
          "data": {
            "text/plain": [
              "torch.Size([])"
            ]
          },
          "metadata": {
            "tags": []
          },
          "execution_count": 62
        }
      ]
    },
    {
      "metadata": {
        "id": "OKaSrgG3VWEI",
        "colab_type": "code",
        "colab": {},
        "outputId": "2a58044d-4ef1-4520-fb56-1ef0652dce57"
      },
      "cell_type": "code",
      "source": [
        "val = torch.sum(torch.exp(out), dim=0)\n",
        "val.shape"
      ],
      "execution_count": 0,
      "outputs": [
        {
          "output_type": "execute_result",
          "data": {
            "text/plain": [
              "torch.Size([10])"
            ]
          },
          "metadata": {
            "tags": []
          },
          "execution_count": 63
        }
      ]
    },
    {
      "metadata": {
        "id": "ITQT9abtVWEP",
        "colab_type": "code",
        "colab": {},
        "outputId": "9a4bb427-6c66-4753-dac2-72e9ae0b464d"
      },
      "cell_type": "code",
      "source": [
        "val = torch.sum(torch.exp(out), dim=1)\n",
        "val.shape"
      ],
      "execution_count": 0,
      "outputs": [
        {
          "output_type": "execute_result",
          "data": {
            "text/plain": [
              "torch.Size([64])"
            ]
          },
          "metadata": {
            "tags": []
          },
          "execution_count": 64
        }
      ]
    },
    {
      "metadata": {
        "id": "z1hKGrxsVWEV",
        "colab_type": "code",
        "colab": {},
        "outputId": "18e41716-9702-4d3f-96c3-3524ebe95df5"
      },
      "cell_type": "code",
      "source": [
        "val = torch.sum(torch.exp(out), dim=1).view(-1,1)\n",
        "val.shape"
      ],
      "execution_count": 0,
      "outputs": [
        {
          "output_type": "execute_result",
          "data": {
            "text/plain": [
              "torch.Size([64, 1])"
            ]
          },
          "metadata": {
            "tags": []
          },
          "execution_count": 65
        }
      ]
    },
    {
      "metadata": {
        "id": "G1Ud_6IQVWEa",
        "colab_type": "code",
        "colab": {}
      },
      "cell_type": "code",
      "source": [
        "from torch import nn"
      ],
      "execution_count": 0,
      "outputs": []
    },
    {
      "metadata": {
        "id": "jy8ecn6HVWEd",
        "colab_type": "code",
        "colab": {},
        "outputId": "03f39fc1-9807-4714-e18e-3d8497d9a128"
      },
      "cell_type": "code",
      "source": [
        "??nn.Linear"
      ],
      "execution_count": 0,
      "outputs": [
        {
          "output_type": "display_data",
          "data": {
            "text/plain": [
              "\u001b[0;31mInit signature:\u001b[0m \u001b[0mnn\u001b[0m\u001b[0;34m.\u001b[0m\u001b[0mLinear\u001b[0m\u001b[0;34m(\u001b[0m\u001b[0min_features\u001b[0m\u001b[0;34m,\u001b[0m \u001b[0mout_features\u001b[0m\u001b[0;34m,\u001b[0m \u001b[0mbias\u001b[0m\u001b[0;34m=\u001b[0m\u001b[0;32mTrue\u001b[0m\u001b[0;34m)\u001b[0m\u001b[0;34m\u001b[0m\u001b[0;34m\u001b[0m\u001b[0m\n",
              "\u001b[0;31mSource:\u001b[0m        \n",
              "\u001b[0;32mclass\u001b[0m \u001b[0mLinear\u001b[0m\u001b[0;34m(\u001b[0m\u001b[0mModule\u001b[0m\u001b[0;34m)\u001b[0m\u001b[0;34m:\u001b[0m\u001b[0;34m\u001b[0m\n",
              "\u001b[0;34m\u001b[0m    \u001b[0;34mr\"\"\"Applies a linear transformation to the incoming data: :math:`y = xA^T + b`\u001b[0m\n",
              "\u001b[0;34m\u001b[0m\n",
              "\u001b[0;34m    Args:\u001b[0m\n",
              "\u001b[0;34m        in_features: size of each input sample\u001b[0m\n",
              "\u001b[0;34m        out_features: size of each output sample\u001b[0m\n",
              "\u001b[0;34m        bias: If set to False, the layer will not learn an additive bias.\u001b[0m\n",
              "\u001b[0;34m            Default: ``True``\u001b[0m\n",
              "\u001b[0;34m\u001b[0m\n",
              "\u001b[0;34m    Shape:\u001b[0m\n",
              "\u001b[0;34m        - Input: :math:`(N, *, \\text{in\\_features})` where :math:`*` means any number of\u001b[0m\n",
              "\u001b[0;34m          additional dimensions\u001b[0m\n",
              "\u001b[0;34m        - Output: :math:`(N, *, \\text{out\\_features})` where all but the last dimension\u001b[0m\n",
              "\u001b[0;34m          are the same shape as the input.\u001b[0m\n",
              "\u001b[0;34m\u001b[0m\n",
              "\u001b[0;34m    Attributes:\u001b[0m\n",
              "\u001b[0;34m        weight: the learnable weights of the module of shape\u001b[0m\n",
              "\u001b[0;34m            :math:`(\\text{out\\_features}, \\text{in\\_features})`. The values are\u001b[0m\n",
              "\u001b[0;34m            initialized from :math:`\\mathcal{U}(-\\sqrt{k}, \\sqrt{k})`, where\u001b[0m\n",
              "\u001b[0;34m            :math:`k = \\frac{1}{\\text{in\\_features}}`\u001b[0m\n",
              "\u001b[0;34m        bias:   the learnable bias of the module of shape :math:`(\\text{out\\_features})`.\u001b[0m\n",
              "\u001b[0;34m                If :attr:`bias` is ``True``, the values are initialized from\u001b[0m\n",
              "\u001b[0;34m                :math:`\\mathcal{U}(-\\sqrt{k}, \\sqrt{k})` where\u001b[0m\n",
              "\u001b[0;34m                :math:`k = \\frac{1}{\\text{in\\_features}}`\u001b[0m\n",
              "\u001b[0;34m\u001b[0m\n",
              "\u001b[0;34m    Examples::\u001b[0m\n",
              "\u001b[0;34m\u001b[0m\n",
              "\u001b[0;34m        >>> m = nn.Linear(20, 30)\u001b[0m\n",
              "\u001b[0;34m        >>> input = torch.randn(128, 20)\u001b[0m\n",
              "\u001b[0;34m        >>> output = m(input)\u001b[0m\n",
              "\u001b[0;34m        >>> print(output.size())\u001b[0m\n",
              "\u001b[0;34m        torch.Size([128, 30])\u001b[0m\n",
              "\u001b[0;34m    \"\"\"\u001b[0m\u001b[0;34m\u001b[0m\n",
              "\u001b[0;34m\u001b[0m    \u001b[0m__constants__\u001b[0m \u001b[0;34m=\u001b[0m \u001b[0;34m[\u001b[0m\u001b[0;34m'bias'\u001b[0m\u001b[0;34m]\u001b[0m\u001b[0;34m\u001b[0m\n",
              "\u001b[0;34m\u001b[0m\u001b[0;34m\u001b[0m\n",
              "\u001b[0;34m\u001b[0m    \u001b[0;32mdef\u001b[0m \u001b[0m__init__\u001b[0m\u001b[0;34m(\u001b[0m\u001b[0mself\u001b[0m\u001b[0;34m,\u001b[0m \u001b[0min_features\u001b[0m\u001b[0;34m,\u001b[0m \u001b[0mout_features\u001b[0m\u001b[0;34m,\u001b[0m \u001b[0mbias\u001b[0m\u001b[0;34m=\u001b[0m\u001b[0;32mTrue\u001b[0m\u001b[0;34m)\u001b[0m\u001b[0;34m:\u001b[0m\u001b[0;34m\u001b[0m\n",
              "\u001b[0;34m\u001b[0m        \u001b[0msuper\u001b[0m\u001b[0;34m(\u001b[0m\u001b[0mLinear\u001b[0m\u001b[0;34m,\u001b[0m \u001b[0mself\u001b[0m\u001b[0;34m)\u001b[0m\u001b[0;34m.\u001b[0m\u001b[0m__init__\u001b[0m\u001b[0;34m(\u001b[0m\u001b[0;34m)\u001b[0m\u001b[0;34m\u001b[0m\n",
              "\u001b[0;34m\u001b[0m        \u001b[0mself\u001b[0m\u001b[0;34m.\u001b[0m\u001b[0min_features\u001b[0m \u001b[0;34m=\u001b[0m \u001b[0min_features\u001b[0m\u001b[0;34m\u001b[0m\n",
              "\u001b[0;34m\u001b[0m        \u001b[0mself\u001b[0m\u001b[0;34m.\u001b[0m\u001b[0mout_features\u001b[0m \u001b[0;34m=\u001b[0m \u001b[0mout_features\u001b[0m\u001b[0;34m\u001b[0m\n",
              "\u001b[0;34m\u001b[0m        \u001b[0mself\u001b[0m\u001b[0;34m.\u001b[0m\u001b[0mweight\u001b[0m \u001b[0;34m=\u001b[0m \u001b[0mParameter\u001b[0m\u001b[0;34m(\u001b[0m\u001b[0mtorch\u001b[0m\u001b[0;34m.\u001b[0m\u001b[0mTensor\u001b[0m\u001b[0;34m(\u001b[0m\u001b[0mout_features\u001b[0m\u001b[0;34m,\u001b[0m \u001b[0min_features\u001b[0m\u001b[0;34m)\u001b[0m\u001b[0;34m)\u001b[0m\u001b[0;34m\u001b[0m\n",
              "\u001b[0;34m\u001b[0m        \u001b[0;32mif\u001b[0m \u001b[0mbias\u001b[0m\u001b[0;34m:\u001b[0m\u001b[0;34m\u001b[0m\n",
              "\u001b[0;34m\u001b[0m            \u001b[0mself\u001b[0m\u001b[0;34m.\u001b[0m\u001b[0mbias\u001b[0m \u001b[0;34m=\u001b[0m \u001b[0mParameter\u001b[0m\u001b[0;34m(\u001b[0m\u001b[0mtorch\u001b[0m\u001b[0;34m.\u001b[0m\u001b[0mTensor\u001b[0m\u001b[0;34m(\u001b[0m\u001b[0mout_features\u001b[0m\u001b[0;34m)\u001b[0m\u001b[0;34m)\u001b[0m\u001b[0;34m\u001b[0m\n",
              "\u001b[0;34m\u001b[0m        \u001b[0;32melse\u001b[0m\u001b[0;34m:\u001b[0m\u001b[0;34m\u001b[0m\n",
              "\u001b[0;34m\u001b[0m            \u001b[0mself\u001b[0m\u001b[0;34m.\u001b[0m\u001b[0mregister_parameter\u001b[0m\u001b[0;34m(\u001b[0m\u001b[0;34m'bias'\u001b[0m\u001b[0;34m,\u001b[0m \u001b[0;32mNone\u001b[0m\u001b[0;34m)\u001b[0m\u001b[0;34m\u001b[0m\n",
              "\u001b[0;34m\u001b[0m        \u001b[0mself\u001b[0m\u001b[0;34m.\u001b[0m\u001b[0mreset_parameters\u001b[0m\u001b[0;34m(\u001b[0m\u001b[0;34m)\u001b[0m\u001b[0;34m\u001b[0m\n",
              "\u001b[0;34m\u001b[0m\u001b[0;34m\u001b[0m\n",
              "\u001b[0;34m\u001b[0m    \u001b[0;32mdef\u001b[0m \u001b[0mreset_parameters\u001b[0m\u001b[0;34m(\u001b[0m\u001b[0mself\u001b[0m\u001b[0;34m)\u001b[0m\u001b[0;34m:\u001b[0m\u001b[0;34m\u001b[0m\n",
              "\u001b[0;34m\u001b[0m        \u001b[0minit\u001b[0m\u001b[0;34m.\u001b[0m\u001b[0mkaiming_uniform_\u001b[0m\u001b[0;34m(\u001b[0m\u001b[0mself\u001b[0m\u001b[0;34m.\u001b[0m\u001b[0mweight\u001b[0m\u001b[0;34m,\u001b[0m \u001b[0ma\u001b[0m\u001b[0;34m=\u001b[0m\u001b[0mmath\u001b[0m\u001b[0;34m.\u001b[0m\u001b[0msqrt\u001b[0m\u001b[0;34m(\u001b[0m\u001b[0;36m5\u001b[0m\u001b[0;34m)\u001b[0m\u001b[0;34m)\u001b[0m\u001b[0;34m\u001b[0m\n",
              "\u001b[0;34m\u001b[0m        \u001b[0;32mif\u001b[0m \u001b[0mself\u001b[0m\u001b[0;34m.\u001b[0m\u001b[0mbias\u001b[0m \u001b[0;32mis\u001b[0m \u001b[0;32mnot\u001b[0m \u001b[0;32mNone\u001b[0m\u001b[0;34m:\u001b[0m\u001b[0;34m\u001b[0m\n",
              "\u001b[0;34m\u001b[0m            \u001b[0mfan_in\u001b[0m\u001b[0;34m,\u001b[0m \u001b[0m_\u001b[0m \u001b[0;34m=\u001b[0m \u001b[0minit\u001b[0m\u001b[0;34m.\u001b[0m\u001b[0m_calculate_fan_in_and_fan_out\u001b[0m\u001b[0;34m(\u001b[0m\u001b[0mself\u001b[0m\u001b[0;34m.\u001b[0m\u001b[0mweight\u001b[0m\u001b[0;34m)\u001b[0m\u001b[0;34m\u001b[0m\n",
              "\u001b[0;34m\u001b[0m            \u001b[0mbound\u001b[0m \u001b[0;34m=\u001b[0m \u001b[0;36m1\u001b[0m \u001b[0;34m/\u001b[0m \u001b[0mmath\u001b[0m\u001b[0;34m.\u001b[0m\u001b[0msqrt\u001b[0m\u001b[0;34m(\u001b[0m\u001b[0mfan_in\u001b[0m\u001b[0;34m)\u001b[0m\u001b[0;34m\u001b[0m\n",
              "\u001b[0;34m\u001b[0m            \u001b[0minit\u001b[0m\u001b[0;34m.\u001b[0m\u001b[0muniform_\u001b[0m\u001b[0;34m(\u001b[0m\u001b[0mself\u001b[0m\u001b[0;34m.\u001b[0m\u001b[0mbias\u001b[0m\u001b[0;34m,\u001b[0m \u001b[0;34m-\u001b[0m\u001b[0mbound\u001b[0m\u001b[0;34m,\u001b[0m \u001b[0mbound\u001b[0m\u001b[0;34m)\u001b[0m\u001b[0;34m\u001b[0m\n",
              "\u001b[0;34m\u001b[0m\u001b[0;34m\u001b[0m\n",
              "\u001b[0;34m\u001b[0m    \u001b[0;34m@\u001b[0m\u001b[0mweak_script_method\u001b[0m\u001b[0;34m\u001b[0m\n",
              "\u001b[0;34m\u001b[0m    \u001b[0;32mdef\u001b[0m \u001b[0mforward\u001b[0m\u001b[0;34m(\u001b[0m\u001b[0mself\u001b[0m\u001b[0;34m,\u001b[0m \u001b[0minput\u001b[0m\u001b[0;34m)\u001b[0m\u001b[0;34m:\u001b[0m\u001b[0;34m\u001b[0m\n",
              "\u001b[0;34m\u001b[0m        \u001b[0;32mreturn\u001b[0m \u001b[0mF\u001b[0m\u001b[0;34m.\u001b[0m\u001b[0mlinear\u001b[0m\u001b[0;34m(\u001b[0m\u001b[0minput\u001b[0m\u001b[0;34m,\u001b[0m \u001b[0mself\u001b[0m\u001b[0;34m.\u001b[0m\u001b[0mweight\u001b[0m\u001b[0;34m,\u001b[0m \u001b[0mself\u001b[0m\u001b[0;34m.\u001b[0m\u001b[0mbias\u001b[0m\u001b[0;34m)\u001b[0m\u001b[0;34m\u001b[0m\n",
              "\u001b[0;34m\u001b[0m\u001b[0;34m\u001b[0m\n",
              "\u001b[0;34m\u001b[0m    \u001b[0;32mdef\u001b[0m \u001b[0mextra_repr\u001b[0m\u001b[0;34m(\u001b[0m\u001b[0mself\u001b[0m\u001b[0;34m)\u001b[0m\u001b[0;34m:\u001b[0m\u001b[0;34m\u001b[0m\n",
              "\u001b[0;34m\u001b[0m        \u001b[0;32mreturn\u001b[0m \u001b[0;34m'in_features={}, out_features={}, bias={}'\u001b[0m\u001b[0;34m.\u001b[0m\u001b[0mformat\u001b[0m\u001b[0;34m(\u001b[0m\u001b[0;34m\u001b[0m\n",
              "\u001b[0;34m\u001b[0m            \u001b[0mself\u001b[0m\u001b[0;34m.\u001b[0m\u001b[0min_features\u001b[0m\u001b[0;34m,\u001b[0m \u001b[0mself\u001b[0m\u001b[0;34m.\u001b[0m\u001b[0mout_features\u001b[0m\u001b[0;34m,\u001b[0m \u001b[0mself\u001b[0m\u001b[0;34m.\u001b[0m\u001b[0mbias\u001b[0m \u001b[0;32mis\u001b[0m \u001b[0;32mnot\u001b[0m \u001b[0;32mNone\u001b[0m\u001b[0;34m\u001b[0m\n",
              "\u001b[0;34m\u001b[0m        \u001b[0;34m)\u001b[0m\u001b[0;34m\u001b[0m\u001b[0;34m\u001b[0m\u001b[0m\n",
              "\u001b[0;31mFile:\u001b[0m           ~/miniconda3/envs/py37_django/lib/python3.7/site-packages/torch/nn/modules/linear.py\n",
              "\u001b[0;31mType:\u001b[0m           type\n"
            ]
          },
          "metadata": {
            "tags": []
          }
        }
      ]
    },
    {
      "metadata": {
        "id": "gr6puuS4VWEi",
        "colab_type": "code",
        "colab": {}
      },
      "cell_type": "code",
      "source": [
        "class Network(nn.Module):\n",
        "    def __init__(self):\n",
        "        super().__init__()\n",
        "        \n",
        "        # Inputs to hidden layer linear transformation\n",
        "        self.hidden = nn.Linear(784, 256)\n",
        "        # Output layer, 10 units - one for each digit\n",
        "        self.output = nn.Linear(256, 10)\n",
        "        \n",
        "        # Define sigmoid activation and softmax output \n",
        "        self.sigmoid = nn.Sigmoid()\n",
        "        self.softmax = nn.Softmax(dim=1)\n",
        "        \n",
        "    def forward(self, x):\n",
        "        # Pass the input tensor through each of our operations\n",
        "        x = self.hidden(x)\n",
        "        x = self.sigmoid(x)\n",
        "        x = self.output(x)\n",
        "        x = self.softmax(x)\n",
        "        \n",
        "        return x"
      ],
      "execution_count": 0,
      "outputs": []
    },
    {
      "metadata": {
        "id": "k3uOa4j5VWEl",
        "colab_type": "text"
      },
      "cell_type": "markdown",
      "source": [
        "Functional way of defining the same network using the \n",
        "```python\n",
        "import torch.nn.functional as F\n",
        "\n",
        "```"
      ]
    },
    {
      "metadata": {
        "id": "Vtcog2hgVWEm",
        "colab_type": "code",
        "colab": {}
      },
      "cell_type": "code",
      "source": [
        "import torch.nn.functional as F\n"
      ],
      "execution_count": 0,
      "outputs": []
    },
    {
      "metadata": {
        "id": "SoJruS1nVWEp",
        "colab_type": "code",
        "colab": {}
      },
      "cell_type": "code",
      "source": [
        "import torch.nn.functional as F\n",
        "\n",
        "class Network(nn.Module):\n",
        "    def __init__(self):\n",
        "        super().__init__()\n",
        "        # Inputs to hidden layer linear transformation\n",
        "        self.hidden = nn.Linear(784, 256)\n",
        "        # Output layer, 10 units - one for each digit\n",
        "        self.output = nn.Linear(256, 10)\n",
        "        \n",
        "    def forward(self, x):\n",
        "        # Hidden layer with sigmoid activation\n",
        "        x = F.sigmoid(self.hidden(x))\n",
        "        # Output layer with softmax activation\n",
        "        x = F.softmax(self.output(x), dim=1)\n",
        "        \n",
        "        return x"
      ],
      "execution_count": 0,
      "outputs": []
    },
    {
      "metadata": {
        "id": "Rgepw1UoVWEt",
        "colab_type": "code",
        "colab": {}
      },
      "cell_type": "code",
      "source": [
        "class ReluNetwork(nn.Module):\n",
        "    def __init__(self):\n",
        "        super().__init__()\n",
        "        \n",
        "        self.input = nn.Linear(784, 128)\n",
        "        self.fc1 = nn.Linear(128, 64)\n",
        "        self.output = nn.Linear(64, 10)\n",
        "    \n",
        "    def forward(self, x):\n",
        "        x = F.relu(self.input(x))\n",
        "        x = F.relu(self.fc1(x))\n",
        "        x = F.softmax(self.output(x), dim=1)\n",
        "        \n",
        "        return x\n",
        "        "
      ],
      "execution_count": 0,
      "outputs": []
    },
    {
      "metadata": {
        "id": "B7nb6HCcVWEy",
        "colab_type": "code",
        "colab": {},
        "outputId": "8d6b0f8b-e1a9-4931-9d9d-0ad7f1220ca2"
      },
      "cell_type": "code",
      "source": [
        "model = ReluNetwork()\n",
        "model"
      ],
      "execution_count": 0,
      "outputs": [
        {
          "output_type": "execute_result",
          "data": {
            "text/plain": [
              "ReluNetwork(\n",
              "  (input): Linear(in_features=784, out_features=128, bias=True)\n",
              "  (fc1): Linear(in_features=128, out_features=64, bias=True)\n",
              "  (output): Linear(in_features=64, out_features=10, bias=True)\n",
              ")"
            ]
          },
          "metadata": {
            "tags": []
          },
          "execution_count": 72
        }
      ]
    },
    {
      "metadata": {
        "id": "GsHU7Z5NVWFE",
        "colab_type": "text"
      },
      "cell_type": "markdown",
      "source": [
        "## Using nn.sequential"
      ]
    },
    {
      "metadata": {
        "id": "bHtfNKIEVWFH",
        "colab_type": "code",
        "colab": {}
      },
      "cell_type": "code",
      "source": [
        "from torch import nn"
      ],
      "execution_count": 0,
      "outputs": []
    },
    {
      "metadata": {
        "id": "hHOiV3ttVWFM",
        "colab_type": "code",
        "colab": {}
      },
      "cell_type": "code",
      "source": [
        "input_size = 784\n",
        "hidden_layer_size = [128, 64]\n",
        "output_size = 10"
      ],
      "execution_count": 0,
      "outputs": []
    },
    {
      "metadata": {
        "id": "quzpfe3xVWFO",
        "colab_type": "code",
        "colab": {},
        "outputId": "b154a9ec-3d02-4543-b657-447a0a194612"
      },
      "cell_type": "code",
      "source": [
        "model = nn.Sequential(nn.Linear(input_size, hidden_layer_size[0]),\n",
        "                     nn.ReLU(),\n",
        "                     nn.Linear(hidden_layer_size[0], hidden_layer_size[1]),\n",
        "                     nn.ReLU(),\n",
        "                     nn.Linear(hidden_layer_size[1], output_size),\n",
        "                     nn.Softmax(dim=1))\n",
        "model"
      ],
      "execution_count": 0,
      "outputs": [
        {
          "output_type": "execute_result",
          "data": {
            "text/plain": [
              "Sequential(\n",
              "  (0): Linear(in_features=784, out_features=128, bias=True)\n",
              "  (1): ReLU()\n",
              "  (2): Linear(in_features=128, out_features=64, bias=True)\n",
              "  (3): ReLU()\n",
              "  (4): Linear(in_features=64, out_features=10, bias=True)\n",
              "  (5): Softmax()\n",
              ")"
            ]
          },
          "metadata": {
            "tags": []
          },
          "execution_count": 75
        }
      ]
    },
    {
      "metadata": {
        "id": "ZeJyiLgIVWFS",
        "colab_type": "code",
        "colab": {},
        "outputId": "e0503abf-93dd-4d40-9720-1ba93bd5874b"
      },
      "cell_type": "code",
      "source": [
        "model[0].weight"
      ],
      "execution_count": 0,
      "outputs": [
        {
          "output_type": "execute_result",
          "data": {
            "text/plain": [
              "Parameter containing:\n",
              "tensor([[ 0.0287,  0.0355,  0.0251,  ..., -0.0186, -0.0032, -0.0252],\n",
              "        [ 0.0186, -0.0123,  0.0304,  ..., -0.0323,  0.0076, -0.0285],\n",
              "        [ 0.0321,  0.0202,  0.0026,  ...,  0.0114,  0.0333,  0.0094],\n",
              "        ...,\n",
              "        [ 0.0257,  0.0089,  0.0285,  ..., -0.0113, -0.0331, -0.0061],\n",
              "        [-0.0197, -0.0176, -0.0343,  ..., -0.0136, -0.0277,  0.0283],\n",
              "        [-0.0165,  0.0100,  0.0062,  ...,  0.0319, -0.0143,  0.0339]],\n",
              "       requires_grad=True)"
            ]
          },
          "metadata": {
            "tags": []
          },
          "execution_count": 76
        }
      ]
    },
    {
      "metadata": {
        "id": "5qhdlL-KVWFY",
        "colab_type": "code",
        "colab": {},
        "outputId": "711fe24f-e820-4048-c743-651d92f6aabb"
      },
      "cell_type": "code",
      "source": [
        "from collections import OrderedDict\n",
        "\n",
        "model = nn.Sequential(OrderedDict([\n",
        "                      ('fc1', nn.Linear(input_size, hidden_layer_size[0])),\n",
        "                      ('relu1', nn.ReLU()),\n",
        "                      ('fc2', nn.Linear(hidden_layer_size[0], hidden_layer_size[1])),\n",
        "                      ('relu2', nn.ReLU()),\n",
        "                      ('output', nn.Linear(hidden_layer_size[1], output_size)),\n",
        "                      ('softmax', nn.Softmax(dim=1))]))\n",
        "model"
      ],
      "execution_count": 0,
      "outputs": [
        {
          "output_type": "execute_result",
          "data": {
            "text/plain": [
              "Sequential(\n",
              "  (fc1): Linear(in_features=784, out_features=128, bias=True)\n",
              "  (relu1): ReLU()\n",
              "  (fc2): Linear(in_features=128, out_features=64, bias=True)\n",
              "  (relu2): ReLU()\n",
              "  (output): Linear(in_features=64, out_features=10, bias=True)\n",
              "  (softmax): Softmax()\n",
              ")"
            ]
          },
          "metadata": {
            "tags": []
          },
          "execution_count": 77
        }
      ]
    },
    {
      "metadata": {
        "id": "xD2SlW8bVWFg",
        "colab_type": "code",
        "colab": {},
        "outputId": "19361940-b08e-43f5-9c42-0357527539cb"
      },
      "cell_type": "code",
      "source": [
        "model.fc1.weight"
      ],
      "execution_count": 0,
      "outputs": [
        {
          "output_type": "execute_result",
          "data": {
            "text/plain": [
              "Parameter containing:\n",
              "tensor([[-0.0243, -0.0273, -0.0054,  ..., -0.0309,  0.0147,  0.0201],\n",
              "        [-0.0133, -0.0274,  0.0301,  ..., -0.0059, -0.0136,  0.0166],\n",
              "        [-0.0009,  0.0086, -0.0031,  ..., -0.0207,  0.0269,  0.0340],\n",
              "        ...,\n",
              "        [ 0.0103, -0.0232,  0.0330,  ..., -0.0261,  0.0005, -0.0154],\n",
              "        [ 0.0264, -0.0312, -0.0163,  ..., -0.0113,  0.0307, -0.0311],\n",
              "        [ 0.0033, -0.0062,  0.0218,  ..., -0.0085, -0.0077,  0.0065]],\n",
              "       requires_grad=True)"
            ]
          },
          "metadata": {
            "tags": []
          },
          "execution_count": 78
        }
      ]
    },
    {
      "metadata": {
        "id": "p7LPd_uNVWFn",
        "colab_type": "code",
        "colab": {},
        "outputId": "62799744-8a3d-4d58-fe37-46164d0f0164"
      },
      "cell_type": "code",
      "source": [
        "# Define the loss\n",
        "criterion = nn.CrossEntropyLoss()\n",
        "criterion"
      ],
      "execution_count": 0,
      "outputs": [
        {
          "output_type": "execute_result",
          "data": {
            "text/plain": [
              "CrossEntropyLoss()"
            ]
          },
          "metadata": {
            "tags": []
          },
          "execution_count": 79
        }
      ]
    },
    {
      "metadata": {
        "id": "gmRNip3vVWFq",
        "colab_type": "text"
      },
      "cell_type": "markdown",
      "source": [
        "**CrossEntropy loss definition**\n",
        "$$ \\large \\text{loss}(x, class) = -\\log\\left(\\frac{\\exp(x[class])}{\\sum_j \\exp(x[j])}\\right)  = -x[class] + \\log\\left(\\sum_j \\exp(x[j])\\right) $$\n",
        "\n",
        "OR\n",
        "\n",
        "$$ \\large     \\text{loss}(x, class) = weight[class] \\left(-x[class] + \\log\\left(\\sum_j \\exp(x[j])\\right)\\right) $$"
      ]
    },
    {
      "metadata": {
        "id": "Jp6Nx2EjVWFs",
        "colab_type": "code",
        "colab": {},
        "outputId": "72929ee0-3f40-479f-c258-d15987b1ccab"
      },
      "cell_type": "code",
      "source": [
        "# Get our data\n",
        "images, labels = next(iter(trainloader))\n",
        "# Flatten images\n",
        "images = images.view(images.shape[0], -1)\n",
        "\n",
        "# Forward pass, get our logits\n",
        "logits = model(images)\n",
        "# Calculate the loss with the logits and the labels\n",
        "loss = criterion(logits, labels)\n",
        "\n",
        "print(loss)"
      ],
      "execution_count": 0,
      "outputs": [
        {
          "output_type": "stream",
          "text": [
            "tensor(2.3042, grad_fn=<NllLossBackward>)\n"
          ],
          "name": "stdout"
        }
      ]
    },
    {
      "metadata": {
        "id": "t7Mzuw13VWFy",
        "colab_type": "text"
      },
      "cell_type": "markdown",
      "source": [
        "**Exercise:** Build a model that returns the `log-softmax` as the output and calculate the loss using the negative log likelihood loss. Note that for `nn.LogSoftmax` and ` F.log_softmax` you'll need to set the dim keyword argument appropriately. `dim=0` calculates softmax across the rows, so each column sums to 1, while `dim=1` calculates across the columns so each row sums to 1. Think about what you want the output to be and choose dim appropriately."
      ]
    },
    {
      "metadata": {
        "id": "4R3SO_stVWF1",
        "colab_type": "code",
        "colab": {},
        "outputId": "3ea4ca41-0ffb-4dad-bfee-177b037534ad"
      },
      "cell_type": "code",
      "source": [
        "model = nn.Sequential(OrderedDict([\n",
        "                      ('fc1', nn.Linear(input_size, hidden_layer_size[0])),\n",
        "                      ('relu1', nn.ReLU()),\n",
        "                      ('fc2', nn.Linear(hidden_layer_size[0], hidden_layer_size[1])),\n",
        "                      ('relu2', nn.ReLU()),\n",
        "                      ('output', nn.Linear(hidden_layer_size[1], output_size)),\n",
        "                      ('softmax', nn.LogSoftmax(dim=1))]))\n",
        "model"
      ],
      "execution_count": 0,
      "outputs": [
        {
          "output_type": "execute_result",
          "data": {
            "text/plain": [
              "Sequential(\n",
              "  (fc1): Linear(in_features=784, out_features=128, bias=True)\n",
              "  (relu1): ReLU()\n",
              "  (fc2): Linear(in_features=128, out_features=64, bias=True)\n",
              "  (relu2): ReLU()\n",
              "  (output): Linear(in_features=64, out_features=10, bias=True)\n",
              "  (softmax): LogSoftmax()\n",
              ")"
            ]
          },
          "metadata": {
            "tags": []
          },
          "execution_count": 45
        }
      ]
    },
    {
      "metadata": {
        "id": "an8jw86aVWF6",
        "colab_type": "code",
        "colab": {},
        "outputId": "b8cae6b5-6300-4829-a160-92d3778084d5"
      },
      "cell_type": "code",
      "source": [
        "criterion = nn.NLLLoss()\n",
        "criterion"
      ],
      "execution_count": 0,
      "outputs": [
        {
          "output_type": "execute_result",
          "data": {
            "text/plain": [
              "NLLLoss()"
            ]
          },
          "metadata": {
            "tags": []
          },
          "execution_count": 46
        }
      ]
    },
    {
      "metadata": {
        "id": "Msed7B54VWF9",
        "colab_type": "code",
        "colab": {},
        "outputId": "a677d28c-8467-4d34-ac9e-06dc7dbfa48e"
      },
      "cell_type": "code",
      "source": [
        "# Get our data\n",
        "images, labels = next(iter(trainloader))\n",
        "# Flatten images\n",
        "images = images.view(images.shape[0], -1)\n",
        "\n",
        "# Forward pass, get our logits\n",
        "logits = model(images)\n",
        "# Calculate the loss with the logits and the labels\n",
        "loss = criterion(logits, labels)\n",
        "\n",
        "print(loss)"
      ],
      "execution_count": 0,
      "outputs": [
        {
          "output_type": "stream",
          "text": [
            "tensor(2.3015, grad_fn=<NllLossBackward>)\n"
          ],
          "name": "stdout"
        }
      ]
    },
    {
      "metadata": {
        "id": "ejNkId1LVWGC",
        "colab_type": "text"
      },
      "cell_type": "markdown",
      "source": [
        "## Losses in PyTorch"
      ]
    },
    {
      "metadata": {
        "id": "DmAIYF2uVWGD",
        "colab_type": "code",
        "colab": {},
        "outputId": "85bdb6f8-3954-48fe-d141-1af8dc4cf18d"
      },
      "cell_type": "code",
      "source": [
        "model = nn.Sequential(OrderedDict([\n",
        "    ('fc1', nn.Linear(784, 128)),\n",
        "    ('Relu1', nn.ReLU()),\n",
        "    ('fc2', nn.Linear(128, 64)),\n",
        "    ('Relu2', nn.ReLU()),\n",
        "    ('output', nn.Linear(64, 10)),\n",
        "    ('logSoftmax', nn.LogSoftmax(dim=1))\n",
        "    \n",
        "]))\n",
        "model"
      ],
      "execution_count": 0,
      "outputs": [
        {
          "output_type": "execute_result",
          "data": {
            "text/plain": [
              "Sequential(\n",
              "  (fc1): Linear(in_features=784, out_features=128, bias=True)\n",
              "  (Relu1): ReLU()\n",
              "  (fc2): Linear(in_features=128, out_features=64, bias=True)\n",
              "  (Relu2): ReLU()\n",
              "  (output): Linear(in_features=64, out_features=10, bias=True)\n",
              "  (logSoftmax): LogSoftmax()\n",
              ")"
            ]
          },
          "metadata": {
            "tags": []
          },
          "execution_count": 48
        }
      ]
    },
    {
      "metadata": {
        "id": "TwFcj8orVWGG",
        "colab_type": "code",
        "colab": {}
      },
      "cell_type": "code",
      "source": [
        "criterion = nn.NLLLoss()"
      ],
      "execution_count": 0,
      "outputs": []
    },
    {
      "metadata": {
        "id": "yk6zh-a5VWGJ",
        "colab_type": "code",
        "colab": {}
      },
      "cell_type": "code",
      "source": [
        "from torch import optim\n",
        "\n",
        "# Optimizers require the parameters to optimize and a learning rate\n",
        "optimizer = optim.SGD(model.parameters(), lr=0.01)\n",
        "# Clear the gradients, do this because gradients are accumulated\n",
        "optimizer.zero_grad()"
      ],
      "execution_count": 0,
      "outputs": []
    },
    {
      "metadata": {
        "id": "LoPA2GCcVWGN",
        "colab_type": "code",
        "colab": {},
        "outputId": "58815197-2c28-443c-ce9e-42ffc9cae00a"
      },
      "cell_type": "code",
      "source": [
        "# Get our data\n",
        "images, labels = next(iter(trainloader))\n",
        "# Flatten images\n",
        "images = images.view(images.shape[0], -1)\n",
        "\n",
        "# Forward pass, get our logits\n",
        "logPs = model(images)\n",
        "# Calculate the loss with the logits and the labels\n",
        "loss = criterion(logPs, labels)\n",
        "\n",
        "print(loss)"
      ],
      "execution_count": 0,
      "outputs": [
        {
          "output_type": "stream",
          "text": [
            "tensor(2.3196, grad_fn=<NllLossBackward>)\n"
          ],
          "name": "stdout"
        }
      ]
    },
    {
      "metadata": {
        "id": "Ix788vp-VWGP",
        "colab_type": "code",
        "colab": {},
        "outputId": "149871b7-c365-4927-c3bd-ad3124893270"
      },
      "cell_type": "code",
      "source": [
        "loss.backward()\n",
        "print('Gradient -', model.fc1.weight.grad)"
      ],
      "execution_count": 0,
      "outputs": [
        {
          "output_type": "stream",
          "text": [
            "Gradient - tensor([[-5.1349e-03, -5.1349e-03, -5.1349e-03,  ..., -5.1349e-03,\n",
            "         -5.1349e-03, -5.1349e-03],\n",
            "        [ 5.8969e-04,  5.8969e-04,  5.8969e-04,  ...,  5.8969e-04,\n",
            "          5.8969e-04,  5.8969e-04],\n",
            "        [-2.3754e-03, -2.3754e-03, -2.3754e-03,  ..., -2.3754e-03,\n",
            "         -2.3754e-03, -2.3754e-03],\n",
            "        ...,\n",
            "        [ 2.6402e-03,  2.6402e-03,  2.6402e-03,  ...,  2.6402e-03,\n",
            "          2.6402e-03,  2.6402e-03],\n",
            "        [ 5.2306e-05,  5.2306e-05,  5.2306e-05,  ...,  5.2306e-05,\n",
            "          5.2306e-05,  5.2306e-05],\n",
            "        [-1.7939e-03, -1.7939e-03, -1.7939e-03,  ..., -1.7939e-03,\n",
            "         -1.7939e-03, -1.7939e-03]])\n"
          ],
          "name": "stdout"
        }
      ]
    },
    {
      "metadata": {
        "id": "R9I3_qVWVWGT",
        "colab_type": "code",
        "colab": {},
        "outputId": "71f54df1-1730-42d8-9963-a2137625bc36"
      },
      "cell_type": "code",
      "source": [
        "# Take an update step and few the new weights\n",
        "optimizer.step()\n",
        "print('Updated weights - ', model.fc1.weight.grad)"
      ],
      "execution_count": 0,
      "outputs": [
        {
          "output_type": "stream",
          "text": [
            "Updated weights -  tensor([[-5.1349e-03, -5.1349e-03, -5.1349e-03,  ..., -5.1349e-03,\n",
            "         -5.1349e-03, -5.1349e-03],\n",
            "        [ 5.8969e-04,  5.8969e-04,  5.8969e-04,  ...,  5.8969e-04,\n",
            "          5.8969e-04,  5.8969e-04],\n",
            "        [-2.3754e-03, -2.3754e-03, -2.3754e-03,  ..., -2.3754e-03,\n",
            "         -2.3754e-03, -2.3754e-03],\n",
            "        ...,\n",
            "        [ 2.6402e-03,  2.6402e-03,  2.6402e-03,  ...,  2.6402e-03,\n",
            "          2.6402e-03,  2.6402e-03],\n",
            "        [ 5.2306e-05,  5.2306e-05,  5.2306e-05,  ...,  5.2306e-05,\n",
            "          5.2306e-05,  5.2306e-05],\n",
            "        [-1.7939e-03, -1.7939e-03, -1.7939e-03,  ..., -1.7939e-03,\n",
            "         -1.7939e-03, -1.7939e-03]])\n"
          ],
          "name": "stdout"
        }
      ]
    },
    {
      "metadata": {
        "id": "AozQ3Oi7VWGb",
        "colab_type": "text"
      },
      "cell_type": "markdown",
      "source": [
        "### Solution to the exercise"
      ]
    },
    {
      "metadata": {
        "id": "FyBxPxjQVWGc",
        "colab_type": "code",
        "colab": {},
        "outputId": "960a7d96-7e4f-4ab7-a15c-3f010a2ed02e"
      },
      "cell_type": "code",
      "source": [
        "model = nn.Sequential(nn.Linear(784, 128),\n",
        "                      nn.ReLU(),\n",
        "                      nn.Linear(128, 64),\n",
        "                      nn.ReLU(),\n",
        "                      nn.Linear(64, 10),\n",
        "                      nn.LogSoftmax(dim=1))\n",
        "\n",
        "criterion = nn.NLLLoss()\n",
        "optimizer = optim.SGD(model.parameters(), lr=0.003)\n",
        "\n",
        "epochs = 5\n",
        "for e in range(epochs):\n",
        "    running_loss = 0\n",
        "    for images, labels in trainloader:\n",
        "        # Flatten MNIST images into a 784 long vector\n",
        "        images = images.view(images.shape[0], -1)\n",
        "        optimizer.zero_grad()\n",
        "    \n",
        "        # Forward pass, get our logits\n",
        "        logPs = model(images)\n",
        "        # Calculate the loss with the logits and the labels\n",
        "        loss = criterion(logPs, labels)\n",
        "        loss.backward()\n",
        "        optimizer.step()\n",
        "        running_loss += loss.item()\n",
        "    else:\n",
        "        print(f\"Training loss: {running_loss/len(trainloader)}\")"
      ],
      "execution_count": 0,
      "outputs": [
        {
          "output_type": "stream",
          "text": [
            "Training loss: 1.9535487583959534\n",
            "Training loss: 0.8826937061637196\n",
            "Training loss: 0.5210850212746846\n",
            "Training loss: 0.430984058884034\n",
            "Training loss: 0.3894831794760883\n"
          ],
          "name": "stdout"
        }
      ]
    },
    {
      "metadata": {
        "id": "IUs9f775VWGj",
        "colab_type": "code",
        "colab": {},
        "outputId": "a2c63320-0d4d-4933-956a-94d9b53bd923"
      },
      "cell_type": "code",
      "source": [
        "%matplotlib inline\n",
        "import helper\n",
        "\n",
        "images, labels = next(iter(trainloader))\n",
        "\n",
        "img = images[0].view(1, 784)\n",
        "# Turn off gradients to speed up this part\n",
        "with torch.no_grad():\n",
        "    logps = model(img)\n",
        "\n",
        "# Output of the network are log-probabilities, need to take exponential for probabilities\n",
        "#ps = logps\n",
        "ps = torch.exp(logps)\n",
        "helper.view_classify(img.view(1, 28, 28), ps)"
      ],
      "execution_count": 0,
      "outputs": [
        {
          "output_type": "display_data",
          "data": {
            "image/png": "[encoded data removed]",
            "text/plain": [
              "<Figure size 432x648 with 2 Axes>"
            ]
          },
          "metadata": {
            "tags": [],
            "image/png": {
              "height": 224,
              "width": 423
            },
            "needs_background": "light"
          }
        }
      ]
    },
    {
      "metadata": {
        "id": "_8SZpsBmVWGm",
        "colab_type": "code",
        "colab": {}
      },
      "cell_type": "code",
      "source": [
        ""
      ],
      "execution_count": 0,
      "outputs": []
    },
    {
      "metadata": {
        "id": "nhAjgOl0VWGp",
        "colab_type": "text"
      },
      "cell_type": "markdown",
      "source": [
        "## What will happen??\n",
        "**Invalid resluts when we do** \n",
        "```python\n",
        "optimizer.zero_grad()\n",
        "```\n",
        "**at wrong place**"
      ]
    },
    {
      "metadata": {
        "id": "oiU-rI6dVWGr",
        "colab_type": "code",
        "colab": {},
        "outputId": "77912669-6491-4eda-ff2f-b20563fee6f3"
      },
      "cell_type": "code",
      "source": [
        "model = nn.Sequential(nn.Linear(784, 128),\n",
        "                      nn.ReLU(),\n",
        "                      nn.Linear(128, 64),\n",
        "                      nn.ReLU(),\n",
        "                      nn.Linear(64, 10),\n",
        "                      nn.LogSoftmax(dim=1))\n",
        "\n",
        "criterion = nn.NLLLoss()\n",
        "optimizer = optim.SGD(model.parameters(), lr=0.003)\n",
        "\n",
        "epochs = 5\n",
        "for e in range(epochs):\n",
        "    running_loss = 0\n",
        "    optimizer.zero_grad() # --> Not the correct place to reset the optimizer\n",
        "    for images, labels in trainloader:\n",
        "        # Flatten MNIST images into a 784 long vector\n",
        "        images = images.view(images.shape[0], -1)\n",
        "        \n",
        "    \n",
        "        # TODO: Training pass\n",
        "        # Forward pass, get our logits\n",
        "        logPs = model(images)\n",
        "        # Calculate the loss with the logits and the labels\n",
        "        loss = criterion(logPs, labels)\n",
        "        loss.backward()\n",
        "        optimizer.step()\n",
        "        running_loss += loss.item()\n",
        "    else:\n",
        "        print(f\"Training loss: {running_loss/len(trainloader)}\")"
      ],
      "execution_count": 0,
      "outputs": [
        {
          "output_type": "stream",
          "text": [
            "Training loss: 1.3615958505729113\n",
            "Training loss: 2.3662244434804043\n",
            "Training loss: 2.4364235492657498\n",
            "Training loss: 2.3876839103475054\n",
            "Training loss: 2.380625469344003\n"
          ],
          "name": "stdout"
        }
      ]
    },
    {
      "metadata": {
        "id": "HpJ9sWfaVWGu",
        "colab_type": "code",
        "colab": {},
        "outputId": "f10467b6-f429-4c01-c3df-e620ac1af6fd"
      },
      "cell_type": "code",
      "source": [
        "%matplotlib inline\n",
        "import helper\n",
        "\n",
        "images, labels = next(iter(trainloader))\n",
        "\n",
        "img = images[0].view(1, 784)\n",
        "# Turn off gradients to speed up this part\n",
        "with torch.no_grad():\n",
        "    logps = model(img)\n",
        "\n",
        "# Output of the network are log-probabilities, need to take exponential for probabilities\n",
        "ps = torch.exp(logps)\n",
        "helper.view_classify(img.view(1, 28, 28), ps)"
      ],
      "execution_count": 0,
      "outputs": [
        {
          "output_type": "display_data",
          "data": {
            "image/png": "[encoded data removed]",
            "text/plain": [
              "<Figure size 432x648 with 2 Axes>"
            ]
          },
          "metadata": {
            "tags": [],
            "image/png": {
              "height": 224,
              "width": 423
            },
            "needs_background": "light"
          }
        }
      ]
    },
    {
      "metadata": {
        "id": "VKMLM-ubVWGy",
        "colab_type": "code",
        "colab": {},
        "outputId": "6ad584c4-40b0-4dea-848d-67b8f19aef9d"
      },
      "cell_type": "code",
      "source": [
        "??helper.view_classify"
      ],
      "execution_count": 0,
      "outputs": [
        {
          "output_type": "display_data",
          "data": {
            "text/plain": [
              "\u001b[0;31mSignature:\u001b[0m \u001b[0mhelper\u001b[0m\u001b[0;34m.\u001b[0m\u001b[0mview_classify\u001b[0m\u001b[0;34m(\u001b[0m\u001b[0mimg\u001b[0m\u001b[0;34m,\u001b[0m \u001b[0mps\u001b[0m\u001b[0;34m,\u001b[0m \u001b[0mversion\u001b[0m\u001b[0;34m=\u001b[0m\u001b[0;34m'MNIST'\u001b[0m\u001b[0;34m)\u001b[0m\u001b[0;34m\u001b[0m\u001b[0;34m\u001b[0m\u001b[0m\n",
              "\u001b[0;31mSource:\u001b[0m   \n",
              "\u001b[0;32mdef\u001b[0m \u001b[0mview_classify\u001b[0m\u001b[0;34m(\u001b[0m\u001b[0mimg\u001b[0m\u001b[0;34m,\u001b[0m \u001b[0mps\u001b[0m\u001b[0;34m,\u001b[0m \u001b[0mversion\u001b[0m\u001b[0;34m=\u001b[0m\u001b[0;34m\"MNIST\"\u001b[0m\u001b[0;34m)\u001b[0m\u001b[0;34m:\u001b[0m\u001b[0;34m\u001b[0m\n",
              "\u001b[0;34m\u001b[0m    \u001b[0;34m''' Function for viewing an image and it's predicted classes.\u001b[0m\n",
              "\u001b[0;34m    '''\u001b[0m\u001b[0;34m\u001b[0m\n",
              "\u001b[0;34m\u001b[0m    \u001b[0mps\u001b[0m \u001b[0;34m=\u001b[0m \u001b[0mps\u001b[0m\u001b[0;34m.\u001b[0m\u001b[0mdata\u001b[0m\u001b[0;34m.\u001b[0m\u001b[0mnumpy\u001b[0m\u001b[0;34m(\u001b[0m\u001b[0;34m)\u001b[0m\u001b[0;34m.\u001b[0m\u001b[0msqueeze\u001b[0m\u001b[0;34m(\u001b[0m\u001b[0;34m)\u001b[0m\u001b[0;34m\u001b[0m\n",
              "\u001b[0;34m\u001b[0m\u001b[0;34m\u001b[0m\n",
              "\u001b[0;34m\u001b[0m    \u001b[0mfig\u001b[0m\u001b[0;34m,\u001b[0m \u001b[0;34m(\u001b[0m\u001b[0max1\u001b[0m\u001b[0;34m,\u001b[0m \u001b[0max2\u001b[0m\u001b[0;34m)\u001b[0m \u001b[0;34m=\u001b[0m \u001b[0mplt\u001b[0m\u001b[0;34m.\u001b[0m\u001b[0msubplots\u001b[0m\u001b[0;34m(\u001b[0m\u001b[0mfigsize\u001b[0m\u001b[0;34m=\u001b[0m\u001b[0;34m(\u001b[0m\u001b[0;36m6\u001b[0m\u001b[0;34m,\u001b[0m\u001b[0;36m9\u001b[0m\u001b[0;34m)\u001b[0m\u001b[0;34m,\u001b[0m \u001b[0mncols\u001b[0m\u001b[0;34m=\u001b[0m\u001b[0;36m2\u001b[0m\u001b[0;34m)\u001b[0m\u001b[0;34m\u001b[0m\n",
              "\u001b[0;34m\u001b[0m    \u001b[0max1\u001b[0m\u001b[0;34m.\u001b[0m\u001b[0mimshow\u001b[0m\u001b[0;34m(\u001b[0m\u001b[0mimg\u001b[0m\u001b[0;34m.\u001b[0m\u001b[0mresize_\u001b[0m\u001b[0;34m(\u001b[0m\u001b[0;36m1\u001b[0m\u001b[0;34m,\u001b[0m \u001b[0;36m28\u001b[0m\u001b[0;34m,\u001b[0m \u001b[0;36m28\u001b[0m\u001b[0;34m)\u001b[0m\u001b[0;34m.\u001b[0m\u001b[0mnumpy\u001b[0m\u001b[0;34m(\u001b[0m\u001b[0;34m)\u001b[0m\u001b[0;34m.\u001b[0m\u001b[0msqueeze\u001b[0m\u001b[0;34m(\u001b[0m\u001b[0;34m)\u001b[0m\u001b[0;34m)\u001b[0m\u001b[0;34m\u001b[0m\n",
              "\u001b[0;34m\u001b[0m    \u001b[0max1\u001b[0m\u001b[0;34m.\u001b[0m\u001b[0maxis\u001b[0m\u001b[0;34m(\u001b[0m\u001b[0;34m'off'\u001b[0m\u001b[0;34m)\u001b[0m\u001b[0;34m\u001b[0m\n",
              "\u001b[0;34m\u001b[0m    \u001b[0max2\u001b[0m\u001b[0;34m.\u001b[0m\u001b[0mbarh\u001b[0m\u001b[0;34m(\u001b[0m\u001b[0mnp\u001b[0m\u001b[0;34m.\u001b[0m\u001b[0marange\u001b[0m\u001b[0;34m(\u001b[0m\u001b[0;36m10\u001b[0m\u001b[0;34m)\u001b[0m\u001b[0;34m,\u001b[0m \u001b[0mps\u001b[0m\u001b[0;34m)\u001b[0m\u001b[0;34m\u001b[0m\n",
              "\u001b[0;34m\u001b[0m    \u001b[0max2\u001b[0m\u001b[0;34m.\u001b[0m\u001b[0mset_aspect\u001b[0m\u001b[0;34m(\u001b[0m\u001b[0;36m0.1\u001b[0m\u001b[0;34m)\u001b[0m\u001b[0;34m\u001b[0m\n",
              "\u001b[0;34m\u001b[0m    \u001b[0max2\u001b[0m\u001b[0;34m.\u001b[0m\u001b[0mset_yticks\u001b[0m\u001b[0;34m(\u001b[0m\u001b[0mnp\u001b[0m\u001b[0;34m.\u001b[0m\u001b[0marange\u001b[0m\u001b[0;34m(\u001b[0m\u001b[0;36m10\u001b[0m\u001b[0;34m)\u001b[0m\u001b[0;34m)\u001b[0m\u001b[0;34m\u001b[0m\n",
              "\u001b[0;34m\u001b[0m    \u001b[0;32mif\u001b[0m \u001b[0mversion\u001b[0m \u001b[0;34m==\u001b[0m \u001b[0;34m\"MNIST\"\u001b[0m\u001b[0;34m:\u001b[0m\u001b[0;34m\u001b[0m\n",
              "\u001b[0;34m\u001b[0m        \u001b[0max2\u001b[0m\u001b[0;34m.\u001b[0m\u001b[0mset_yticklabels\u001b[0m\u001b[0;34m(\u001b[0m\u001b[0mnp\u001b[0m\u001b[0;34m.\u001b[0m\u001b[0marange\u001b[0m\u001b[0;34m(\u001b[0m\u001b[0;36m10\u001b[0m\u001b[0;34m)\u001b[0m\u001b[0;34m)\u001b[0m\u001b[0;34m\u001b[0m\n",
              "\u001b[0;34m\u001b[0m    \u001b[0;32melif\u001b[0m \u001b[0mversion\u001b[0m \u001b[0;34m==\u001b[0m \u001b[0;34m\"Fashion\"\u001b[0m\u001b[0;34m:\u001b[0m\u001b[0;34m\u001b[0m\n",
              "\u001b[0;34m\u001b[0m        \u001b[0max2\u001b[0m\u001b[0;34m.\u001b[0m\u001b[0mset_yticklabels\u001b[0m\u001b[0;34m(\u001b[0m\u001b[0;34m[\u001b[0m\u001b[0;34m'T-shirt/top'\u001b[0m\u001b[0;34m,\u001b[0m\u001b[0;34m\u001b[0m\n",
              "\u001b[0;34m\u001b[0m                            \u001b[0;34m'Trouser'\u001b[0m\u001b[0;34m,\u001b[0m\u001b[0;34m\u001b[0m\n",
              "\u001b[0;34m\u001b[0m                            \u001b[0;34m'Pullover'\u001b[0m\u001b[0;34m,\u001b[0m\u001b[0;34m\u001b[0m\n",
              "\u001b[0;34m\u001b[0m                            \u001b[0;34m'Dress'\u001b[0m\u001b[0;34m,\u001b[0m\u001b[0;34m\u001b[0m\n",
              "\u001b[0;34m\u001b[0m                            \u001b[0;34m'Coat'\u001b[0m\u001b[0;34m,\u001b[0m\u001b[0;34m\u001b[0m\n",
              "\u001b[0;34m\u001b[0m                            \u001b[0;34m'Sandal'\u001b[0m\u001b[0;34m,\u001b[0m\u001b[0;34m\u001b[0m\n",
              "\u001b[0;34m\u001b[0m                            \u001b[0;34m'Shirt'\u001b[0m\u001b[0;34m,\u001b[0m\u001b[0;34m\u001b[0m\n",
              "\u001b[0;34m\u001b[0m                            \u001b[0;34m'Sneaker'\u001b[0m\u001b[0;34m,\u001b[0m\u001b[0;34m\u001b[0m\n",
              "\u001b[0;34m\u001b[0m                            \u001b[0;34m'Bag'\u001b[0m\u001b[0;34m,\u001b[0m\u001b[0;34m\u001b[0m\n",
              "\u001b[0;34m\u001b[0m                            \u001b[0;34m'Ankle Boot'\u001b[0m\u001b[0;34m]\u001b[0m\u001b[0;34m,\u001b[0m \u001b[0msize\u001b[0m\u001b[0;34m=\u001b[0m\u001b[0;34m'small'\u001b[0m\u001b[0;34m)\u001b[0m\u001b[0;34m;\u001b[0m\u001b[0;34m\u001b[0m\n",
              "\u001b[0;34m\u001b[0m    \u001b[0max2\u001b[0m\u001b[0;34m.\u001b[0m\u001b[0mset_title\u001b[0m\u001b[0;34m(\u001b[0m\u001b[0;34m'Class Probability'\u001b[0m\u001b[0;34m)\u001b[0m\u001b[0;34m\u001b[0m\n",
              "\u001b[0;34m\u001b[0m    \u001b[0max2\u001b[0m\u001b[0;34m.\u001b[0m\u001b[0mset_xlim\u001b[0m\u001b[0;34m(\u001b[0m\u001b[0;36m0\u001b[0m\u001b[0;34m,\u001b[0m \u001b[0;36m1.1\u001b[0m\u001b[0;34m)\u001b[0m\u001b[0;34m\u001b[0m\n",
              "\u001b[0;34m\u001b[0m\u001b[0;34m\u001b[0m\n",
              "\u001b[0;34m\u001b[0m    \u001b[0mplt\u001b[0m\u001b[0;34m.\u001b[0m\u001b[0mtight_layout\u001b[0m\u001b[0;34m(\u001b[0m\u001b[0;34m)\u001b[0m\u001b[0;34m\u001b[0m\u001b[0;34m\u001b[0m\u001b[0m\n",
              "\u001b[0;31mFile:\u001b[0m      ~/testProjects/deep-learning-v2-pytorch/intro-to-pytorch/helper.py\n",
              "\u001b[0;31mType:\u001b[0m      function\n"
            ]
          },
          "metadata": {
            "tags": []
          }
        }
      ]
    },
    {
      "metadata": {
        "id": "yDnTzIqtVWG6",
        "colab_type": "code",
        "colab": {}
      },
      "cell_type": "code",
      "source": [
        ""
      ],
      "execution_count": 0,
      "outputs": []
    }
  ]
}